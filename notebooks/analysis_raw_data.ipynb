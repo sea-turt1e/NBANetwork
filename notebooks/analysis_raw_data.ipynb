{
 "cells": [
  {
   "cell_type": "code",
   "execution_count": 15,
   "metadata": {},
   "outputs": [],
   "source": [
    "import re \n",
    "import pandas as pd"
   ]
  },
  {
   "cell_type": "code",
   "execution_count": 19,
   "metadata": {},
   "outputs": [],
   "source": [
    "data = pd.read_csv('../data/raw/play_by_play/pbp2023.csv')"
   ]
  },
  {
   "cell_type": "code",
   "execution_count": 20,
   "metadata": {},
   "outputs": [
    {
     "name": "stdout",
     "output_type": "stream",
     "text": [
      "             player assister                         type result\n",
      "10         J. Tatum    Smart                    Jump Shot   Made\n",
      "29         J. Tatum    Smart           Running Layup Shot   Made\n",
      "56        T. Harris   Harden           Running Layup Shot   Made\n",
      "59        T. Harris   Embiid                    Jump Shot   Made\n",
      "76      G. Williams    Tatum   Driving Reverse Layup Shot   Made\n",
      "...             ...      ...                          ...    ...\n",
      "646294    R. Gobert    Towns  Running Alley Oop Dunk Shot   Made\n",
      "646297  J. Williams     Dort                    Jump Shot   Made\n",
      "646345    J. Minott   Prince                    Jump Shot   Made\n",
      "646350    J. Minott   Knight           Cutting Layup Shot   Made\n",
      "646364     O. Dieng     Mann           Driving Layup Shot   Made\n",
      "\n",
      "[60297 rows x 4 columns]\n"
     ]
    }
   ],
   "source": [
    "# extract assist data\n",
    "assist_data = data[data['desc'].str.contains(r\"\\(\\w+ \\d+ AST\\)\", na=False)]\n",
    "\n",
    "# function to extract assist information\n",
    "def extract_assist_info(row):\n",
    "    match = re.search(r\"\\((\\w+ \\d+ AST)\\)\", row['desc'])\n",
    "    if match:\n",
    "        assister = match.group(1).split()[0]  # player who made the assist\n",
    "        return pd.Series({\n",
    "            \"player\": row['player'],        # player who made the shot\n",
    "            \"assister\": assister,           # player who made the assist\n",
    "            \"type\": row['subtype'],         # type of shot\n",
    "            \"result\": row['result']         # result of the shot\n",
    "        })\n",
    "\n",
    "# apply the function to each row\n",
    "assist_info = assist_data.apply(extract_assist_info, axis=1)\n",
    "\n",
    "# print the assist information\n",
    "print(assist_info)\n"
   ]
  }
 ],
 "metadata": {
  "kernelspec": {
   "display_name": "nbanetwork",
   "language": "python",
   "name": "python3"
  },
  "language_info": {
   "codemirror_mode": {
    "name": "ipython",
    "version": 3
   },
   "file_extension": ".py",
   "mimetype": "text/x-python",
   "name": "python",
   "nbconvert_exporter": "python",
   "pygments_lexer": "ipython3",
   "version": "3.12.7"
  }
 },
 "nbformat": 4,
 "nbformat_minor": 2
}
